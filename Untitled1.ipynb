{
 "cells": [
  {
   "cell_type": "code",
   "execution_count": null,
   "metadata": {
    "collapsed": false
   },
   "outputs": [],
   "source": [
    "from sklearn import svm,datasets\n",
    "import numpy as np\n",
    "import numpy as np\n",
    "import os,sys\n",
    "#module_path = os.path.abspath(os.path.join('/Users/vayer/Documents/OT/Python/GW_tests/'))\n",
    "#if module_path not in sys.path:\n",
    "#    sys.path.append(module_path)\n",
    "from graph import *\n",
    "import copy\n",
    "import NN,time\n",
    "from sklearn.model_selection import StratifiedKFold\n",
    "import ot_distances\n",
    "import pandas as pd\n",
    "import seaborn as sns\n",
    "from sklearn.model_selection import GridSearchCV\n",
    "from sklearn.pipeline import Pipeline\n",
    "from ot_distances import Wasserstein_distance as EMD\n",
    "from ot_distances import Gromov_Wasserstein_distance as WGW"
   ]
  },
  {
   "cell_type": "code",
   "execution_count": null,
   "metadata": {
    "collapsed": false
   },
   "outputs": [],
   "source": [
    "from custom_svc import *"
   ]
  },
  {
   "cell_type": "code",
   "execution_count": null,
   "metadata": {
    "collapsed": true
   },
   "outputs": [],
   "source": [
    "path='./data/MUTAG_2/'\n",
    "dataset=build_MUTAG_dataset(path)\n",
    "X,y=zip(*dataset)\n",
    "rationtraintest=0.7\n",
    "\n",
    "A,B=split_train_test(dataset,rationtraintest)\n",
    "x_train,y_train=zip(*A)\n",
    "x_test,y_test=zip(*B)"
   ]
  },
  {
   "cell_type": "code",
   "execution_count": null,
   "metadata": {
    "collapsed": false
   },
   "outputs": [],
   "source": [
    "len(x_test)"
   ]
  },
  {
   "cell_type": "code",
   "execution_count": null,
   "metadata": {
    "collapsed": false
   },
   "outputs": [],
   "source": [
    "graph_svc=Graph_WGW_SVC_Classifier(epsilon=15,alpha=0.5,C=10,gamma=0.01,verbose=True,scale=True)"
   ]
  },
  {
   "cell_type": "code",
   "execution_count": null,
   "metadata": {
    "collapsed": false
   },
   "outputs": [],
   "source": [
    "graph_svc.gram_matrix(np.array(x_train))"
   ]
  },
  {
   "cell_type": "code",
   "execution_count": null,
   "metadata": {
    "collapsed": false
   },
   "outputs": [],
   "source": [
    "graph_svc.fit(np.array(x_train),np.array(y_train))"
   ]
  },
  {
   "cell_type": "code",
   "execution_count": null,
   "metadata": {
    "collapsed": false
   },
   "outputs": [],
   "source": [
    "graph_svc.predict(np.array(x_test))"
   ]
  },
  {
   "cell_type": "code",
   "execution_count": null,
   "metadata": {
    "collapsed": false
   },
   "outputs": [],
   "source": [
    "tuned_parameters = [{'epsilon':list(np.linspace(0.05,2,1)),\n",
    "                    'alpha':list(np.linspace(0,0.99,1))\n",
    "                     ,'method':['shortest_path']\n",
    "                     ,'normalize_distance':[True]\n",
    "                     ,'features_metric':['dirac']\n",
    "                     ,'C':[2,3]\n",
    "                     ,'gamma':[2]}]"
   ]
  },
  {
   "cell_type": "code",
   "execution_count": null,
   "metadata": {
    "collapsed": true
   },
   "outputs": [],
   "source": [
    "graph_svc=Graph_WGW_SVC_Classifier()\n"
   ]
  },
  {
   "cell_type": "code",
   "execution_count": null,
   "metadata": {
    "collapsed": false
   },
   "outputs": [],
   "source": [
    "tuned_parameters"
   ]
  },
  {
   "cell_type": "code",
   "execution_count": null,
   "metadata": {
    "collapsed": false,
    "scrolled": false
   },
   "outputs": [],
   "source": [
    "clf = GridSearchCV(graph_svc, tuned_parameters, cv=2,scoring='accuracy',verbose=1,n_jobs=1)\n",
    "clf.fit(np.array(x_test).reshape(-1,1),np.array(y_test))"
   ]
  },
  {
   "cell_type": "code",
   "execution_count": null,
   "metadata": {
    "collapsed": true
   },
   "outputs": [],
   "source": []
  },
  {
   "cell_type": "code",
   "execution_count": null,
   "metadata": {
    "collapsed": true
   },
   "outputs": [],
   "source": []
  }
 ],
 "metadata": {
  "anaconda-cloud": {},
  "kernelspec": {
   "display_name": "Python [default]",
   "language": "python",
   "name": "python3"
  },
  "language_info": {
   "codemirror_mode": {
    "name": "ipython",
    "version": 3
   },
   "file_extension": ".py",
   "mimetype": "text/x-python",
   "name": "python",
   "nbconvert_exporter": "python",
   "pygments_lexer": "ipython3",
   "version": "3.5.2"
  }
 },
 "nbformat": 4,
 "nbformat_minor": 1
}

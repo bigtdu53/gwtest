{
 "cells": [
  {
   "cell_type": "code",
   "execution_count": 39,
   "metadata": {
    "collapsed": false
   },
   "outputs": [],
   "source": [
    "from sklearn import svm,datasets\n",
    "import numpy as np\n",
    "from custom_svc import *\n",
    "import os,sys\n",
    "from graph import *\n",
    "import copy\n",
    "import NN,time\n",
    "from sklearn.model_selection import StratifiedKFold\n",
    "import ot_distances\n",
    "import pandas as pd\n",
    "import seaborn as sns\n",
    "from sklearn.model_selection import GridSearchCV\n",
    "from sklearn.pipeline import Pipeline\n",
    "from ot_distances import Wasserstein_distance as EMD\n",
    "from ot_distances import Gromov_Wasserstein_distance as WGW\n",
    "from custom_gridsearch import GridSearch\n",
    "from sklearn.base import clone\n",
    "from copy import deepcopy\n",
    "#path='./data/PTC_MR/'\n",
    "#path='./data/PTC_MR/'\n",
    "\n",
    "path='./data/MUTAG_2/'\n",
    "dataset=build_MUTAG_dataset(path)\n",
    "X,y=zip(*dataset)\n",
    "\n",
    "#dataset=build_PTC_dataset(path)\n",
    "#X,y=zip(*dataset)\n",
    "\n",
    "\n",
    "tuned_parameters = [{'epsilon':list([0.07]),\n",
    "                    'alpha':list([0.667])\n",
    "                     ,'method':['shortest_path']\n",
    "                     ,'normalize_distance':[True]\n",
    "                     ,'features_metric':['dirac']\n",
    "                     ,'scale':[False,True]\n",
    "                     ,'C':[10**k for k in [0,0.5,1,1.7,1.8,2,2.1,2.2,2.3,2.4,2.41,2.42,2.43,2.44,2.45,2.46,2.47,2.48,2.5,2.7]]\n",
    "                     ,'gamma':[2**k for k in [-3,-2,-1,-1.2,-1.1,-1.3,-1.4,-0.1,-0.2,-0.3,-0.4,0,0.01,0.02,0.03,0.04,0.05,0.06,1,2]]}]\n",
    "graph_svc=Graph_WGW_SVC_Classifier(epsilon=0.07,alpha=0.667,C=1,gamma=0.1,verbose=False,scale=False,normalize_distance=False,features_metric='dirac')\n"
   ]
  },
  {
   "cell_type": "code",
   "execution_count": 40,
   "metadata": {
    "collapsed": false
   },
   "outputs": [
    {
     "name": "stdout",
     "output_type": "stream",
     "text": [
      "TIME :  0.02271294593811035\n"
     ]
    }
   ],
   "source": [
    "start=time.time()\n",
    "graph_svc.compute_similarity(X[0],X[1])\n",
    "end=time.time()\n",
    "print('TIME : ',end-start)"
   ]
  },
  {
   "cell_type": "code",
   "execution_count": 22,
   "metadata": {
    "collapsed": false
   },
   "outputs": [
    {
     "name": "stdout",
     "output_type": "stream",
     "text": [
      "TOUTES LES DISTANCES ONT ETE RECALCULEES \n",
      "TIME :  774.1217498779297\n"
     ]
    }
   ],
   "source": [
    "start=time.time()\n",
    "graph_svc.fit(np.array(X).reshape(-1,1),np.array(y))\n",
    "end=time.time()\n",
    "print('TIME : ',end-start)"
   ]
  },
  {
   "cell_type": "code",
   "execution_count": 29,
   "metadata": {
    "collapsed": false
   },
   "outputs": [],
   "source": [
    "clf=GridSearch(graph_svc,tuned_parameters=tuned_parameters,csv='results_mutagtest.csv',n_jobs=1,parallel=False,nb_splits=10)\n",
    "clf.fit(np.array(X).reshape(-1,1),np.array(y))"
   ]
  },
  {
   "cell_type": "code",
   "execution_count": 38,
   "metadata": {
    "collapsed": false
   },
   "outputs": [
    {
     "data": {
      "text/plain": [
       "[0.01,\n",
       " 0.016681005372000592,\n",
       " 0.027825594022071243,\n",
       " 0.046415888336127774,\n",
       " 0.077426368268112694,\n",
       " 0.12915496650148839,\n",
       " 0.21544346900318834,\n",
       " 0.35938136638046259,\n",
       " 0.59948425031894093,\n",
       " 1.0]"
      ]
     },
     "execution_count": 38,
     "metadata": {},
     "output_type": "execute_result"
    }
   ],
   "source": [
    "list(np.logspace(-2,0,10))"
   ]
  },
  {
   "cell_type": "code",
   "execution_count": 34,
   "metadata": {
    "collapsed": false
   },
   "outputs": [
    {
     "data": {
      "text/plain": [
       "[1.0,\n",
       " 1.2915496650148839,\n",
       " 1.6681005372000588,\n",
       " 2.1544346900318838,\n",
       " 2.7825594022071245,\n",
       " 3.5938136638046276,\n",
       " 4.6415888336127784,\n",
       " 5.9948425031894086,\n",
       " 7.7426368268112693,\n",
       " 10.0]"
      ]
     },
     "execution_count": 34,
     "metadata": {},
     "output_type": "execute_result"
    }
   ],
   "source": [
    "list(np.logspace(0,1,10))"
   ]
  },
  {
   "cell_type": "code",
   "execution_count": 36,
   "metadata": {
    "collapsed": false
   },
   "outputs": [
    {
     "data": {
      "text/plain": [
       "[0.0,\n",
       " 0.1111111111111111,\n",
       " 0.22222222222222221,\n",
       " 0.33333333333333331,\n",
       " 0.44444444444444442,\n",
       " 0.55555555555555558,\n",
       " 0.66666666666666663,\n",
       " 0.77777777777777768,\n",
       " 0.88888888888888884,\n",
       " 1.0]"
      ]
     },
     "execution_count": 36,
     "metadata": {},
     "output_type": "execute_result"
    }
   ],
   "source": [
    "list(np.linspace(0,1,10))"
   ]
  },
  {
   "cell_type": "code",
   "execution_count": null,
   "metadata": {
    "collapsed": true
   },
   "outputs": [],
   "source": []
  }
 ],
 "metadata": {
  "kernelspec": {
   "display_name": "Python [default]",
   "language": "python",
   "name": "python3"
  },
  "language_info": {
   "codemirror_mode": {
    "name": "ipython",
    "version": 3
   },
   "file_extension": ".py",
   "mimetype": "text/x-python",
   "name": "python",
   "nbconvert_exporter": "python",
   "pygments_lexer": "ipython3",
   "version": "3.5.2"
  }
 },
 "nbformat": 4,
 "nbformat_minor": 1
}
